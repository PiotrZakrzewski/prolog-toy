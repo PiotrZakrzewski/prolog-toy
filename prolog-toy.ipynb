{
 "cells": [
  {
   "cell_type": "code",
   "execution_count": 1,
   "id": "fixed-garbage",
   "metadata": {},
   "outputs": [],
   "source": [
    "from pyswip import Prolog\n",
    "prolog = Prolog()\n",
    "\n",
    "def print_x(query):\n",
    "    \"\"\"Print an output variable from a prolog query.\"\"\"\n",
    "    for soln in prolog.query(query):\n",
    "        print(soln[\"Result\"])\n",
    "def is_true(query):\n",
    "    \"\"\"Return True/False for a prolog query returning boolean.\"\"\"\n",
    "    for soln in prolog.query(query):\n",
    "        if soln == {}:\n",
    "            return True\n",
    "    return False"
   ]
  },
  {
   "cell_type": "code",
   "execution_count": 2,
   "id": "small-measure",
   "metadata": {},
   "outputs": [],
   "source": [
    "prolog.consult(\"attack.pl\")\n",
    "prolog.consult(\"game_state.pl\")\n"
   ]
  },
  {
   "cell_type": "code",
   "execution_count": 5,
   "id": "better-protest",
   "metadata": {},
   "outputs": [
    {
     "data": {
      "text/plain": [
       "False"
      ]
     },
     "execution_count": 5,
     "metadata": {},
     "output_type": "execute_result"
    }
   ],
   "source": [
    "is_true(\"canAttack(dummy2, dummy2)\")"
   ]
  },
  {
   "cell_type": "code",
   "execution_count": 6,
   "id": "surgical-christian",
   "metadata": {},
   "outputs": [
    {
     "name": "stdout",
     "output_type": "stream",
     "text": [
      "dummy1\n",
      "dummy2\n"
     ]
    }
   ],
   "source": [
    "print_x(\"canAttack(Result, dummy2)\")"
   ]
  },
  {
   "cell_type": "code",
   "execution_count": null,
   "id": "indoor-conclusion",
   "metadata": {},
   "outputs": [],
   "source": []
  }
 ],
 "metadata": {
  "kernelspec": {
   "display_name": "Python 3",
   "language": "python",
   "name": "python3"
  },
  "language_info": {
   "codemirror_mode": {
    "name": "ipython",
    "version": 3
   },
   "file_extension": ".py",
   "mimetype": "text/x-python",
   "name": "python",
   "nbconvert_exporter": "python",
   "pygments_lexer": "ipython3",
   "version": "3.8.6"
  }
 },
 "nbformat": 4,
 "nbformat_minor": 5
}
